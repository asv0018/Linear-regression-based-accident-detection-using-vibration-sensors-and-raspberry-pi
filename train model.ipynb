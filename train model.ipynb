{
  "nbformat": 4,
  "nbformat_minor": 0,
  "metadata": {
    "kernelspec": {
      "display_name": "Python 3",
      "language": "python",
      "name": "python3"
    },
    "language_info": {
      "codemirror_mode": {
        "name": "ipython",
        "version": 3
      },
      "file_extension": ".py",
      "mimetype": "text/x-python",
      "name": "python",
      "nbconvert_exporter": "python",
      "pygments_lexer": "ipython3",
      "version": "3.8.3"
    },
    "colab": {
      "name": "main 2.ipynb",
      "provenance": [],
      "collapsed_sections": []
    }
  },
  "cells": [
    {
      "cell_type": "code",
      "metadata": {
        "id": "YScB_1BqP6k8",
        "colab": {
          "base_uri": "https://localhost:8080/"
        },
        "outputId": "af5b5e74-52ed-450d-a870-bbfc5647f4e7"
      },
      "source": [
        "#normal dataset\n",
        "import random\n",
        "from csv import writer\n",
        "\n",
        "frequency_of_vibration = []\n",
        "output = []\n",
        "\n",
        "for i in range(0,5000):\n",
        "    frequency_of_vibration.append(random.uniform(0, 28))\n",
        "\n",
        "for i in range(0,5000):\n",
        "    output.append(0)\n",
        "\n",
        "\n",
        "for i in range(0,5000):\n",
        "  frequency_of_vibration.append(random.uniform(28, 64))\n",
        "\n",
        "for i in range(0,5000):\n",
        "    output.append(1)\n",
        "\n",
        "print(len(frequency_of_vibration))\n",
        "with open('dataset.csv', 'a') as f_object:\n",
        "    writer_object = writer(f_object)\n",
        "    writer_object.writerow([\"SLNO\", \"FREQUENCY\", \"OUTPUT\"])\n",
        "    for i in range(1,10000):\n",
        "        writer_object.writerow([i, frequency_of_vibration[i], output[i]])\n",
        "\n",
        "print(\"work done\")"
      ],
      "execution_count": null,
      "outputs": [
        {
          "output_type": "stream",
          "text": [
            "10000\n",
            "work done\n"
          ],
          "name": "stdout"
        }
      ]
    },
    {
      "cell_type": "code",
      "metadata": {
        "id": "c-oZ_1nYZJpk"
      },
      "source": [
        "from google.colab import drive\n",
        "drive.mount('/content/drive')"
      ],
      "execution_count": null,
      "outputs": []
    },
    {
      "cell_type": "code",
      "metadata": {
        "colab": {
          "base_uri": "https://localhost:8080/"
        },
        "id": "spfFo1ZDP6lH",
        "outputId": "c2459404-aa0b-4780-e3ea-9f95dad9ca00"
      },
      "source": [
        "import pandas\n",
        "from sklearn import linear_model\n",
        "value=None\n",
        "\n",
        "df = pandas.read_csv(\"dataset.csv\")\n",
        "\n",
        "X = df[['FREQUENCY']]\n",
        "Y = df['OUTPUT']\n",
        "\n",
        "regr = linear_model.LinearRegression()\n",
        "regr.fit(X, Y)\n",
        "\n",
        "freq = float(input(\"Insert the frequency in KHz : \"))\n",
        "\n",
        "predict = regr.predict([[freq]])\n",
        "\n",
        "#0.5\n",
        "\n",
        "if predict>0.49:\n",
        "    value=True\n",
        "else:\n",
        "    value=False\n",
        "\n",
        "if value:\n",
        "  print(\"It is an accident\")\n",
        "else:\n",
        "  print(\"It is not an accident\")\n",
        "\n",
        "r2_score = regr.score(X,Y)\n",
        "\n",
        "print(\"the accuracy of Linear Regression is =\",r2_score*100,'%')\n"
      ],
      "execution_count": null,
      "outputs": [
        {
          "output_type": "stream",
          "text": [
            "Insert the frequency in KHz : 24\n",
            "It is not an accident\n",
            "the accuracy of Linear Regression is = 74.98877874207446 %\n"
          ],
          "name": "stdout"
        }
      ]
    },
    {
      "cell_type": "code",
      "metadata": {
        "id": "FJC8kR_zP6lI",
        "colab": {
          "base_uri": "https://localhost:8080/",
          "height": 204
        },
        "outputId": "4c7fad73-b25b-4d26-8b7e-6565821b483a"
      },
      "source": [
        "import warnings\n",
        "warnings.filterwarnings('ignore')\n",
        "\n",
        "# Import the numpy and pandas package\n",
        "\n",
        "import numpy as np\n",
        "import pandas as pd\n",
        "\n",
        "# Data Visualisation\n",
        "import matplotlib.pyplot as plt \n",
        "import seaborn as sns\n",
        "\n",
        "ad = pd.DataFrame(pd.read_csv(\"dataset.csv\"))\n",
        "ad.head()\n"
      ],
      "execution_count": null,
      "outputs": [
        {
          "output_type": "execute_result",
          "data": {
            "text/html": [
              "<div>\n",
              "<style scoped>\n",
              "    .dataframe tbody tr th:only-of-type {\n",
              "        vertical-align: middle;\n",
              "    }\n",
              "\n",
              "    .dataframe tbody tr th {\n",
              "        vertical-align: top;\n",
              "    }\n",
              "\n",
              "    .dataframe thead th {\n",
              "        text-align: right;\n",
              "    }\n",
              "</style>\n",
              "<table border=\"1\" class=\"dataframe\">\n",
              "  <thead>\n",
              "    <tr style=\"text-align: right;\">\n",
              "      <th></th>\n",
              "      <th>SLNO</th>\n",
              "      <th>FREQUENCY</th>\n",
              "      <th>OUTPUT</th>\n",
              "    </tr>\n",
              "  </thead>\n",
              "  <tbody>\n",
              "    <tr>\n",
              "      <th>0</th>\n",
              "      <td>1</td>\n",
              "      <td>24.044173</td>\n",
              "      <td>0</td>\n",
              "    </tr>\n",
              "    <tr>\n",
              "      <th>1</th>\n",
              "      <td>2</td>\n",
              "      <td>0.039885</td>\n",
              "      <td>0</td>\n",
              "    </tr>\n",
              "    <tr>\n",
              "      <th>2</th>\n",
              "      <td>3</td>\n",
              "      <td>26.839403</td>\n",
              "      <td>0</td>\n",
              "    </tr>\n",
              "    <tr>\n",
              "      <th>3</th>\n",
              "      <td>4</td>\n",
              "      <td>12.673941</td>\n",
              "      <td>0</td>\n",
              "    </tr>\n",
              "    <tr>\n",
              "      <th>4</th>\n",
              "      <td>5</td>\n",
              "      <td>1.873193</td>\n",
              "      <td>0</td>\n",
              "    </tr>\n",
              "  </tbody>\n",
              "</table>\n",
              "</div>"
            ],
            "text/plain": [
              "   SLNO  FREQUENCY  OUTPUT\n",
              "0     1  24.044173       0\n",
              "1     2   0.039885       0\n",
              "2     3  26.839403       0\n",
              "3     4  12.673941       0\n",
              "4     5   1.873193       0"
            ]
          },
          "metadata": {
            "tags": []
          },
          "execution_count": 129
        }
      ]
    },
    {
      "cell_type": "code",
      "metadata": {
        "id": "TrPK3zsRP6lK",
        "colab": {
          "base_uri": "https://localhost:8080/"
        },
        "outputId": "4ca617f4-e855-4bae-8a20-9a0064d0cdc9"
      },
      "source": [
        "ad.shape"
      ],
      "execution_count": null,
      "outputs": [
        {
          "output_type": "execute_result",
          "data": {
            "text/plain": [
              "(9999, 3)"
            ]
          },
          "metadata": {
            "tags": []
          },
          "execution_count": 130
        }
      ]
    },
    {
      "cell_type": "code",
      "metadata": {
        "id": "GwAh095CP6lM",
        "colab": {
          "base_uri": "https://localhost:8080/",
          "height": 297
        },
        "outputId": "30d8a2f9-d737-4e6c-a776-231664555327"
      },
      "source": [
        "ad.describe()"
      ],
      "execution_count": null,
      "outputs": [
        {
          "output_type": "execute_result",
          "data": {
            "text/html": [
              "<div>\n",
              "<style scoped>\n",
              "    .dataframe tbody tr th:only-of-type {\n",
              "        vertical-align: middle;\n",
              "    }\n",
              "\n",
              "    .dataframe tbody tr th {\n",
              "        vertical-align: top;\n",
              "    }\n",
              "\n",
              "    .dataframe thead th {\n",
              "        text-align: right;\n",
              "    }\n",
              "</style>\n",
              "<table border=\"1\" class=\"dataframe\">\n",
              "  <thead>\n",
              "    <tr style=\"text-align: right;\">\n",
              "      <th></th>\n",
              "      <th>SLNO</th>\n",
              "      <th>FREQUENCY</th>\n",
              "      <th>OUTPUT</th>\n",
              "    </tr>\n",
              "  </thead>\n",
              "  <tbody>\n",
              "    <tr>\n",
              "      <th>count</th>\n",
              "      <td>9999.000000</td>\n",
              "      <td>9999.000000</td>\n",
              "      <td>9999.000000</td>\n",
              "    </tr>\n",
              "    <tr>\n",
              "      <th>mean</th>\n",
              "      <td>5000.000000</td>\n",
              "      <td>30.030652</td>\n",
              "      <td>0.500050</td>\n",
              "    </tr>\n",
              "    <tr>\n",
              "      <th>std</th>\n",
              "      <td>2886.607005</td>\n",
              "      <td>18.637549</td>\n",
              "      <td>0.500025</td>\n",
              "    </tr>\n",
              "    <tr>\n",
              "      <th>min</th>\n",
              "      <td>1.000000</td>\n",
              "      <td>0.013231</td>\n",
              "      <td>0.000000</td>\n",
              "    </tr>\n",
              "    <tr>\n",
              "      <th>25%</th>\n",
              "      <td>2500.500000</td>\n",
              "      <td>13.847105</td>\n",
              "      <td>0.000000</td>\n",
              "    </tr>\n",
              "    <tr>\n",
              "      <th>50%</th>\n",
              "      <td>5000.000000</td>\n",
              "      <td>28.004319</td>\n",
              "      <td>1.000000</td>\n",
              "    </tr>\n",
              "    <tr>\n",
              "      <th>75%</th>\n",
              "      <td>7499.500000</td>\n",
              "      <td>46.341570</td>\n",
              "      <td>1.000000</td>\n",
              "    </tr>\n",
              "    <tr>\n",
              "      <th>max</th>\n",
              "      <td>9999.000000</td>\n",
              "      <td>63.998389</td>\n",
              "      <td>1.000000</td>\n",
              "    </tr>\n",
              "  </tbody>\n",
              "</table>\n",
              "</div>"
            ],
            "text/plain": [
              "              SLNO    FREQUENCY       OUTPUT\n",
              "count  9999.000000  9999.000000  9999.000000\n",
              "mean   5000.000000    30.030652     0.500050\n",
              "std    2886.607005    18.637549     0.500025\n",
              "min       1.000000     0.013231     0.000000\n",
              "25%    2500.500000    13.847105     0.000000\n",
              "50%    5000.000000    28.004319     1.000000\n",
              "75%    7499.500000    46.341570     1.000000\n",
              "max    9999.000000    63.998389     1.000000"
            ]
          },
          "metadata": {
            "tags": []
          },
          "execution_count": 131
        }
      ]
    },
    {
      "cell_type": "code",
      "metadata": {
        "id": "A44vDi2gP6lO",
        "colab": {
          "base_uri": "https://localhost:8080/",
          "height": 369
        },
        "outputId": "fc92236f-6f6a-4cb4-d0da-bfc1a877f678"
      },
      "source": [
        "fig, axs = plt.subplots(1, figsize = (5,5))\n",
        "plt1 = sns.boxplot(ad['FREQUENCY'], ax = axs)\n",
        "plt.tight_layout()"
      ],
      "execution_count": null,
      "outputs": [
        {
          "output_type": "display_data",
          "data": {
            "image/png": "[encoded data removed]",
            "text/plain": [
              "<Figure size 360x360 with 1 Axes>"
            ]
          },
          "metadata": {
            "tags": [],
            "needs_background": "light"
          }
        }
      ]
    },
    {
      "cell_type": "code",
      "metadata": {
        "id": "ctMvFg7oP6lP",
        "colab": {
          "base_uri": "https://localhost:8080/",
          "height": 300
        },
        "outputId": "1c631a5f-8854-470f-8056-e372f3e5c789"
      },
      "source": [
        "import pandas\n",
        "import matplotlib.pyplot as plt\n",
        "\n",
        "df = pandas.read_csv(\"dataset.csv\")\n",
        "\n",
        "X = df[['FREQUENCY']]\n",
        "Y = df['OUTPUT']\n",
        "\n",
        "plt.plot(df[[\"FREQUENCY\"]], color='red')\n",
        "plt.title('VIBRATION FREQUENCY VS ACCIDENT STATUS', fontsize=14)\n",
        "plt.xlabel('DATA', fontsize=14)\n",
        "plt.ylabel('FREQUENCY', fontsize=14)\n",
        "plt.grid(True)\n",
        "plt.show()"
      ],
      "execution_count": null,
      "outputs": [
        {
          "output_type": "display_data",
          "data": {
            "image/png": "[encoded data removed]",
            "text/plain": [
              "<Figure size 432x288 with 1 Axes>"
            ]
          },
          "metadata": {
            "tags": [],
            "needs_background": "light"
          }
        }
      ]
    }
  ]
}